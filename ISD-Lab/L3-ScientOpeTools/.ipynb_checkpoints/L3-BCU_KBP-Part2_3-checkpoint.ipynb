{
 "cells": [
  {
   "cell_type": "markdown",
   "id": "looking-salvation",
   "metadata": {},
   "source": [
    "# TP 3 : Scientific operations tools"
   ]
  },
  {
   "cell_type": "markdown",
   "id": "plastic-instrument",
   "metadata": {},
   "source": [
    "## Part II. - Animals database\n",
    "### II.1) Create notebook + read and create a dataframe from database."
   ]
  },
  {
   "cell_type": "code",
   "execution_count": 38,
   "id": "continuous-turkey",
   "metadata": {},
   "outputs": [],
   "source": [
    "import pandas as pd\n",
    "import numpy as np ## .. for np.arange().\n",
    "import statistics ## .. for mean + median method().\n",
    "from matplotlib import pyplot as plt ## .. for histogram.\n",
    "from math import log10, floor"
   ]
  },
  {
   "cell_type": "code",
   "execution_count": 39,
   "id": "reduced-check",
   "metadata": {},
   "outputs": [],
   "source": [
    "## Read file & create dataframe :\n",
    "df_ani = pd.read_csv(\"PanTHERIA_1-0_WR05_Aug2008.txt\", sep='\\t')"
   ]
  },
  {
   "cell_type": "code",
   "execution_count": 40,
   "id": "stylish-benjamin",
   "metadata": {},
   "outputs": [
    {
     "data": {
      "text/html": [
       "<div>\n",
       "<style scoped>\n",
       "    .dataframe tbody tr th:only-of-type {\n",
       "        vertical-align: middle;\n",
       "    }\n",
       "\n",
       "    .dataframe tbody tr th {\n",
       "        vertical-align: top;\n",
       "    }\n",
       "\n",
       "    .dataframe thead th {\n",
       "        text-align: right;\n",
       "    }\n",
       "</style>\n",
       "<table border=\"1\" class=\"dataframe\">\n",
       "  <thead>\n",
       "    <tr style=\"text-align: right;\">\n",
       "      <th></th>\n",
       "      <th>1-1_ActivityCycle</th>\n",
       "      <th>5-1_AdultBodyMass_g</th>\n",
       "      <th>8-1_AdultForearmLen_mm</th>\n",
       "      <th>13-1_AdultHeadBodyLen_mm</th>\n",
       "      <th>2-1_AgeatEyeOpening_d</th>\n",
       "      <th>3-1_AgeatFirstBirth_d</th>\n",
       "      <th>18-1_BasalMetRate_mLO2hr</th>\n",
       "      <th>5-2_BasalMetRateMass_g</th>\n",
       "      <th>6-1_DietBreadth</th>\n",
       "      <th>7-1_DispersalAge_d</th>\n",
       "      <th>...</th>\n",
       "      <th>26-6_GR_MinLong_dd</th>\n",
       "      <th>26-7_GR_MidRangeLong_dd</th>\n",
       "      <th>27-1_HuPopDen_Min_n/km2</th>\n",
       "      <th>27-2_HuPopDen_Mean_n/km2</th>\n",
       "      <th>27-3_HuPopDen_5p_n/km2</th>\n",
       "      <th>27-4_HuPopDen_Change</th>\n",
       "      <th>28-1_Precip_Mean_mm</th>\n",
       "      <th>28-2_Temp_Mean_01degC</th>\n",
       "      <th>30-1_AET_Mean_mm</th>\n",
       "      <th>30-2_PET_Mean_mm</th>\n",
       "    </tr>\n",
       "  </thead>\n",
       "  <tbody>\n",
       "    <tr>\n",
       "      <th>count</th>\n",
       "      <td>5416.000000</td>\n",
       "      <td>5.416000e+03</td>\n",
       "      <td>5416.000000</td>\n",
       "      <td>5416.000000</td>\n",
       "      <td>5416.000000</td>\n",
       "      <td>5416.000000</td>\n",
       "      <td>5416.000000</td>\n",
       "      <td>5416.00000</td>\n",
       "      <td>5416.000000</td>\n",
       "      <td>5416.000000</td>\n",
       "      <td>...</td>\n",
       "      <td>5416.000000</td>\n",
       "      <td>5416.000000</td>\n",
       "      <td>5416.000000</td>\n",
       "      <td>5416.000000</td>\n",
       "      <td>5416.000000</td>\n",
       "      <td>5416.000000</td>\n",
       "      <td>5416.000000</td>\n",
       "      <td>5416.000000</td>\n",
       "      <td>5416.000000</td>\n",
       "      <td>5416.000000</td>\n",
       "    </tr>\n",
       "    <tr>\n",
       "      <th>mean</th>\n",
       "      <td>-692.433346</td>\n",
       "      <td>1.159401e+05</td>\n",
       "      <td>-823.276128</td>\n",
       "      <td>-441.370303</td>\n",
       "      <td>-909.936621</td>\n",
       "      <td>-848.912626</td>\n",
       "      <td>-694.539337</td>\n",
       "      <td>-42.32449</td>\n",
       "      <td>-599.361337</td>\n",
       "      <td>-961.650096</td>\n",
       "      <td>...</td>\n",
       "      <td>-124.978658</td>\n",
       "      <td>-116.195251</td>\n",
       "      <td>-124.672821</td>\n",
       "      <td>-69.937411</td>\n",
       "      <td>-122.373892</td>\n",
       "      <td>-145.818923</td>\n",
       "      <td>-61.841064</td>\n",
       "      <td>-6.574847</td>\n",
       "      <td>580.167897</td>\n",
       "      <td>885.371204</td>\n",
       "    </tr>\n",
       "    <tr>\n",
       "      <th>std</th>\n",
       "      <td>461.384103</td>\n",
       "      <td>2.638103e+06</td>\n",
       "      <td>393.076695</td>\n",
       "      <td>1125.326888</td>\n",
       "      <td>286.985807</td>\n",
       "      <td>552.433154</td>\n",
       "      <td>2775.817235</td>\n",
       "      <td>12409.88190</td>\n",
       "      <td>490.519927</td>\n",
       "      <td>241.549875</td>\n",
       "      <td>...</td>\n",
       "      <td>359.006349</td>\n",
       "      <td>361.919556</td>\n",
       "      <td>354.244136</td>\n",
       "      <td>390.450236</td>\n",
       "      <td>355.359663</td>\n",
       "      <td>352.869151</td>\n",
       "      <td>419.305365</td>\n",
       "      <td>443.838735</td>\n",
       "      <td>896.708034</td>\n",
       "      <td>1009.305361</td>\n",
       "    </tr>\n",
       "    <tr>\n",
       "      <th>min</th>\n",
       "      <td>-999.000000</td>\n",
       "      <td>-9.990000e+02</td>\n",
       "      <td>-999.000000</td>\n",
       "      <td>-999.000000</td>\n",
       "      <td>-999.000000</td>\n",
       "      <td>-999.000000</td>\n",
       "      <td>-999.000000</td>\n",
       "      <td>-999.00000</td>\n",
       "      <td>-999.000000</td>\n",
       "      <td>-999.000000</td>\n",
       "      <td>...</td>\n",
       "      <td>-999.000000</td>\n",
       "      <td>-999.000000</td>\n",
       "      <td>-999.000000</td>\n",
       "      <td>-999.000000</td>\n",
       "      <td>-999.000000</td>\n",
       "      <td>-999.000000</td>\n",
       "      <td>-999.000000</td>\n",
       "      <td>-999.000000</td>\n",
       "      <td>-999.000000</td>\n",
       "      <td>-999.000000</td>\n",
       "    </tr>\n",
       "    <tr>\n",
       "      <th>25%</th>\n",
       "      <td>-999.000000</td>\n",
       "      <td>-9.990000e+02</td>\n",
       "      <td>-999.000000</td>\n",
       "      <td>-999.000000</td>\n",
       "      <td>-999.000000</td>\n",
       "      <td>-999.000000</td>\n",
       "      <td>-999.000000</td>\n",
       "      <td>-999.00000</td>\n",
       "      <td>-999.000000</td>\n",
       "      <td>-999.000000</td>\n",
       "      <td>...</td>\n",
       "      <td>-93.272500</td>\n",
       "      <td>-79.335000</td>\n",
       "      <td>0.000000</td>\n",
       "      <td>6.000000</td>\n",
       "      <td>0.000000</td>\n",
       "      <td>0.030000</td>\n",
       "      <td>29.832500</td>\n",
       "      <td>68.150000</td>\n",
       "      <td>269.327500</td>\n",
       "      <td>639.625000</td>\n",
       "    </tr>\n",
       "    <tr>\n",
       "      <th>50%</th>\n",
       "      <td>-999.000000</td>\n",
       "      <td>2.312500e+01</td>\n",
       "      <td>-999.000000</td>\n",
       "      <td>-999.000000</td>\n",
       "      <td>-999.000000</td>\n",
       "      <td>-999.000000</td>\n",
       "      <td>-999.000000</td>\n",
       "      <td>-999.00000</td>\n",
       "      <td>-999.000000</td>\n",
       "      <td>-999.000000</td>\n",
       "      <td>...</td>\n",
       "      <td>3.055000</td>\n",
       "      <td>16.930000</td>\n",
       "      <td>1.000000</td>\n",
       "      <td>28.850000</td>\n",
       "      <td>2.000000</td>\n",
       "      <td>0.090000</td>\n",
       "      <td>91.065000</td>\n",
       "      <td>199.655000</td>\n",
       "      <td>843.705000</td>\n",
       "      <td>1379.115000</td>\n",
       "    </tr>\n",
       "    <tr>\n",
       "      <th>75%</th>\n",
       "      <td>1.000000</td>\n",
       "      <td>2.819150e+02</td>\n",
       "      <td>-999.000000</td>\n",
       "      <td>131.005000</td>\n",
       "      <td>-999.000000</td>\n",
       "      <td>-999.000000</td>\n",
       "      <td>-999.000000</td>\n",
       "      <td>-999.00000</td>\n",
       "      <td>2.000000</td>\n",
       "      <td>-999.000000</td>\n",
       "      <td>...</td>\n",
       "      <td>89.640000</td>\n",
       "      <td>99.427500</td>\n",
       "      <td>5.000000</td>\n",
       "      <td>75.602500</td>\n",
       "      <td>8.125000</td>\n",
       "      <td>0.120000</td>\n",
       "      <td>154.607500</td>\n",
       "      <td>239.215000</td>\n",
       "      <td>1276.722500</td>\n",
       "      <td>1577.025000</td>\n",
       "    </tr>\n",
       "    <tr>\n",
       "      <th>max</th>\n",
       "      <td>3.000000</td>\n",
       "      <td>1.543213e+08</td>\n",
       "      <td>246.000000</td>\n",
       "      <td>30480.000000</td>\n",
       "      <td>153.500000</td>\n",
       "      <td>5456.750000</td>\n",
       "      <td>113712.000000</td>\n",
       "      <td>407000.00000</td>\n",
       "      <td>8.000000</td>\n",
       "      <td>5248.980000</td>\n",
       "      <td>...</td>\n",
       "      <td>172.340000</td>\n",
       "      <td>175.750000</td>\n",
       "      <td>1119.000000</td>\n",
       "      <td>2060.500000</td>\n",
       "      <td>1119.000000</td>\n",
       "      <td>1.000000</td>\n",
       "      <td>461.000000</td>\n",
       "      <td>350.000000</td>\n",
       "      <td>1858.560000</td>\n",
       "      <td>2107.000000</td>\n",
       "    </tr>\n",
       "  </tbody>\n",
       "</table>\n",
       "<p>8 rows × 49 columns</p>\n",
       "</div>"
      ],
      "text/plain": [
       "       1-1_ActivityCycle  5-1_AdultBodyMass_g  8-1_AdultForearmLen_mm  \\\n",
       "count        5416.000000         5.416000e+03             5416.000000   \n",
       "mean         -692.433346         1.159401e+05             -823.276128   \n",
       "std           461.384103         2.638103e+06              393.076695   \n",
       "min          -999.000000        -9.990000e+02             -999.000000   \n",
       "25%          -999.000000        -9.990000e+02             -999.000000   \n",
       "50%          -999.000000         2.312500e+01             -999.000000   \n",
       "75%             1.000000         2.819150e+02             -999.000000   \n",
       "max             3.000000         1.543213e+08              246.000000   \n",
       "\n",
       "       13-1_AdultHeadBodyLen_mm  2-1_AgeatEyeOpening_d  3-1_AgeatFirstBirth_d  \\\n",
       "count               5416.000000            5416.000000            5416.000000   \n",
       "mean                -441.370303            -909.936621            -848.912626   \n",
       "std                 1125.326888             286.985807             552.433154   \n",
       "min                 -999.000000            -999.000000            -999.000000   \n",
       "25%                 -999.000000            -999.000000            -999.000000   \n",
       "50%                 -999.000000            -999.000000            -999.000000   \n",
       "75%                  131.005000            -999.000000            -999.000000   \n",
       "max                30480.000000             153.500000            5456.750000   \n",
       "\n",
       "       18-1_BasalMetRate_mLO2hr  5-2_BasalMetRateMass_g  6-1_DietBreadth  \\\n",
       "count               5416.000000              5416.00000      5416.000000   \n",
       "mean                -694.539337               -42.32449      -599.361337   \n",
       "std                 2775.817235             12409.88190       490.519927   \n",
       "min                 -999.000000              -999.00000      -999.000000   \n",
       "25%                 -999.000000              -999.00000      -999.000000   \n",
       "50%                 -999.000000              -999.00000      -999.000000   \n",
       "75%                 -999.000000              -999.00000         2.000000   \n",
       "max               113712.000000            407000.00000         8.000000   \n",
       "\n",
       "       7-1_DispersalAge_d  ...  26-6_GR_MinLong_dd  26-7_GR_MidRangeLong_dd  \\\n",
       "count         5416.000000  ...         5416.000000              5416.000000   \n",
       "mean          -961.650096  ...         -124.978658              -116.195251   \n",
       "std            241.549875  ...          359.006349               361.919556   \n",
       "min           -999.000000  ...         -999.000000              -999.000000   \n",
       "25%           -999.000000  ...          -93.272500               -79.335000   \n",
       "50%           -999.000000  ...            3.055000                16.930000   \n",
       "75%           -999.000000  ...           89.640000                99.427500   \n",
       "max           5248.980000  ...          172.340000               175.750000   \n",
       "\n",
       "       27-1_HuPopDen_Min_n/km2  27-2_HuPopDen_Mean_n/km2  \\\n",
       "count              5416.000000               5416.000000   \n",
       "mean               -124.672821                -69.937411   \n",
       "std                 354.244136                390.450236   \n",
       "min                -999.000000               -999.000000   \n",
       "25%                   0.000000                  6.000000   \n",
       "50%                   1.000000                 28.850000   \n",
       "75%                   5.000000                 75.602500   \n",
       "max                1119.000000               2060.500000   \n",
       "\n",
       "       27-3_HuPopDen_5p_n/km2  27-4_HuPopDen_Change  28-1_Precip_Mean_mm  \\\n",
       "count             5416.000000           5416.000000          5416.000000   \n",
       "mean              -122.373892           -145.818923           -61.841064   \n",
       "std                355.359663            352.869151           419.305365   \n",
       "min               -999.000000           -999.000000          -999.000000   \n",
       "25%                  0.000000              0.030000            29.832500   \n",
       "50%                  2.000000              0.090000            91.065000   \n",
       "75%                  8.125000              0.120000           154.607500   \n",
       "max               1119.000000              1.000000           461.000000   \n",
       "\n",
       "       28-2_Temp_Mean_01degC  30-1_AET_Mean_mm  30-2_PET_Mean_mm  \n",
       "count            5416.000000       5416.000000       5416.000000  \n",
       "mean               -6.574847        580.167897        885.371204  \n",
       "std               443.838735        896.708034       1009.305361  \n",
       "min              -999.000000       -999.000000       -999.000000  \n",
       "25%                68.150000        269.327500        639.625000  \n",
       "50%               199.655000        843.705000       1379.115000  \n",
       "75%               239.215000       1276.722500       1577.025000  \n",
       "max               350.000000       1858.560000       2107.000000  \n",
       "\n",
       "[8 rows x 49 columns]"
      ]
     },
     "execution_count": 40,
     "metadata": {},
     "output_type": "execute_result"
    }
   ],
   "source": [
    "## Show content : \n",
    "df_ani.describe()"
   ]
  },
  {
   "cell_type": "markdown",
   "id": "twelve-flooring",
   "metadata": {},
   "source": [
    "### II.2) Take weight of animals as adults (\"5-1_AdultBodyMass_g\")"
   ]
  },
  {
   "cell_type": "code",
   "execution_count": 41,
   "id": "stopped-young",
   "metadata": {},
   "outputs": [
    {
     "name": "stdout",
     "output_type": "stream",
     "text": [
      "0       492714.47\n",
      "1        10392.49\n",
      "2         9658.70\n",
      "3        11989.10\n",
      "4        31756.51\n",
      "          ...    \n",
      "5411        40.42\n",
      "5412        93.99\n",
      "5413       123.00\n",
      "5414       100.00\n",
      "5415        95.02\n",
      "Name: 5-1_AdultBodyMass_g, Length: 5416, dtype: float64\n"
     ]
    }
   ],
   "source": [
    "## Values reckoning of \"5-1_AdultBodyMass_g\" column\n",
    "print(df_ani[\"5-1_AdultBodyMass_g\"])"
   ]
  },
  {
   "cell_type": "markdown",
   "id": "hazardous-vinyl",
   "metadata": {},
   "source": [
    "### II.3) Take a look to the values distribution, find :\n",
    "#### - MINIMUM\n",
    "#### - MAXIMUM\n",
    "#### - AVERAGE\n",
    "#### - MEDIAN\n",
    "### And control if they are some unrealistic values, missing datas, etc ..."
   ]
  },
  {
   "cell_type": "code",
   "execution_count": 42,
   "id": "federal-device",
   "metadata": {},
   "outputs": [
    {
     "data": {
      "text/plain": [
       "MSW05_Order                     0\n",
       "MSW05_Family                    0\n",
       "MSW05_Genus                     0\n",
       "MSW05_Species                   0\n",
       "MSW05_Binomial                  0\n",
       "1-1_ActivityCycle               0\n",
       "5-1_AdultBodyMass_g             0\n",
       "8-1_AdultForearmLen_mm          0\n",
       "13-1_AdultHeadBodyLen_mm        0\n",
       "2-1_AgeatEyeOpening_d           0\n",
       "3-1_AgeatFirstBirth_d           0\n",
       "18-1_BasalMetRate_mLO2hr        0\n",
       "5-2_BasalMetRateMass_g          0\n",
       "6-1_DietBreadth                 0\n",
       "7-1_DispersalAge_d              0\n",
       "9-1_GestationLen_d              0\n",
       "12-1_HabitatBreadth             0\n",
       "22-1_HomeRange_km2              0\n",
       "22-2_HomeRange_Indiv_km2        0\n",
       "14-1_InterbirthInterval_d       0\n",
       "15-1_LitterSize                 0\n",
       "16-1_LittersPerYear             0\n",
       "17-1_MaxLongevity_m             0\n",
       "5-3_NeonateBodyMass_g           0\n",
       "13-2_NeonateHeadBodyLen_mm      0\n",
       "21-1_PopulationDensity_n/km2    0\n",
       "10-1_PopulationGrpSize          0\n",
       "23-1_SexualMaturityAge_d        0\n",
       "10-2_SocialGrpSize              0\n",
       "24-1_TeatNumber                 0\n",
       "12-2_Terrestriality             0\n",
       "6-2_TrophicLevel                0\n",
       "25-1_WeaningAge_d               0\n",
       "5-4_WeaningBodyMass_g           0\n",
       "13-3_WeaningHeadBodyLen_mm      0\n",
       "References                      0\n",
       "5-5_AdultBodyMass_g_EXT         0\n",
       "16-2_LittersPerYear_EXT         0\n",
       "5-6_NeonateBodyMass_g_EXT       0\n",
       "5-7_WeaningBodyMass_g_EXT       0\n",
       "26-1_GR_Area_km2                0\n",
       "26-2_GR_MaxLat_dd               0\n",
       "26-3_GR_MinLat_dd               0\n",
       "26-4_GR_MidRangeLat_dd          0\n",
       "26-5_GR_MaxLong_dd              0\n",
       "26-6_GR_MinLong_dd              0\n",
       "26-7_GR_MidRangeLong_dd         0\n",
       "27-1_HuPopDen_Min_n/km2         0\n",
       "27-2_HuPopDen_Mean_n/km2        0\n",
       "27-3_HuPopDen_5p_n/km2          0\n",
       "27-4_HuPopDen_Change            0\n",
       "28-1_Precip_Mean_mm             0\n",
       "28-2_Temp_Mean_01degC           0\n",
       "30-1_AET_Mean_mm                0\n",
       "30-2_PET_Mean_mm                0\n",
       "dtype: int64"
      ]
     },
     "execution_count": 42,
     "metadata": {},
     "output_type": "execute_result"
    }
   ],
   "source": [
    "## Check missing values (defined by <NA> label)\n",
    "df_ani.isna().sum()"
   ]
  },
  {
   "cell_type": "markdown",
   "id": "alive-plaintiff",
   "metadata": {},
   "source": [
    "No missing values : **Checked !**"
   ]
  },
  {
   "cell_type": "code",
   "execution_count": 43,
   "id": "hungarian-rogers",
   "metadata": {},
   "outputs": [
    {
     "name": "stdout",
     "output_type": "stream",
     "text": [
      "Minimum = -999.000[g]\n",
      "Minimum (filtered) = 1.960[g]\n",
      "Maximum = 154321304.500[g] = 154321.304[kg] = 154.321[t]\n",
      "Average = 177810.182[g]    = 177.810[kg]    = 0.178[t]\n",
      "Median  = 104.465[g]\n"
     ]
    }
   ],
   "source": [
    "## MINIMUM : ------------------------------------------------------------------------>\n",
    "print(f'Minimum = {df_ani[\"5-1_AdultBodyMass_g\"].min():.3f}[g]')\n",
    "LOWER_LIMIT = 0\n",
    "if df_ani[\"5-1_AdultBodyMass_g\"].min() < LOWER_LIMIT:\n",
    "    ## List with only realistic values (under 0 deleted) :\n",
    "    ls_neg_filter = [x for x in df_ani[\"5-1_AdultBodyMass_g\"] if x >= LOWER_LIMIT]\n",
    "    ## Check filtered list : \n",
    "    #print(ls_neg_filter)\n",
    "    print(f'Minimum (filtered) = {min(ls_neg_filter):.3f}[g]')\n",
    "\n",
    "## MAXIMUM : ------------------------------------------------------------------------>\n",
    "print(f'Maximum = {max(ls_neg_filter):.3f}[g] = \\\n",
    "{max(ls_neg_filter)/1000:.3f}[kg] = \\\n",
    "{max(ls_neg_filter)/1000000:.3f}[t]')\n",
    "\n",
    "## AVERAGE : ------------------------------------------------------------------------>\n",
    "print(f'Average = {statistics.mean(ls_neg_filter):.3f}[g]    = \\\n",
    "{statistics.mean(ls_neg_filter)/1000:.3f}[kg]    = \\\n",
    "{statistics.mean(ls_neg_filter)/1000000:.3f}[t]')\n",
    "\n",
    "## MEDIAN  : ------------------------------------------------------------------------>\n",
    "print(f'Median  = {statistics.median(ls_neg_filter):.3f}[g]')"
   ]
  },
  {
   "cell_type": "markdown",
   "id": "military-polyester",
   "metadata": {},
   "source": [
    "Observations :\n",
    "- **No missing values detected.**\n",
    "- Some values are **not realistic**, like the minimum one. It was a **negative value.**\n",
    "  So we make a filter to keep positive values only.\n",
    "- A **blue whale** as an adult can weight up to **150[t]**, so the **maximum is correct**.\n",
    "- We can see that **the median and the average are different**, due to the fact that the **AVERAGE** value is calculated with every values in the list. And the **MEDIAN** is counting the number of values above and below a certain point and if the number of values above is equal to the number of value below that point, the median is found."
   ]
  },
  {
   "cell_type": "markdown",
   "id": "further-conversation",
   "metadata": {},
   "source": [
    "### II.4) Histogram of Body masses"
   ]
  },
  {
   "cell_type": "code",
   "execution_count": 44,
   "id": "adjustable-field",
   "metadata": {},
   "outputs": [
    {
     "data": {
      "text/plain": [
       "(array([3.517e+03, 1.200e+01, 1.000e+00, 1.000e+00, 1.000e+00, 0.000e+00,\n",
       "        1.000e+00, 3.000e+00, 1.000e+00, 1.000e+00, 1.000e+00, 0.000e+00,\n",
       "        0.000e+00, 0.000e+00, 0.000e+00, 1.000e+00, 0.000e+00, 0.000e+00,\n",
       "        0.000e+00, 0.000e+00, 0.000e+00, 0.000e+00, 0.000e+00, 0.000e+00,\n",
       "        0.000e+00, 1.000e+00, 0.000e+00, 0.000e+00, 0.000e+00, 0.000e+00,\n",
       "        0.000e+00, 0.000e+00, 0.000e+00, 0.000e+00, 0.000e+00, 0.000e+00,\n",
       "        0.000e+00, 0.000e+00, 0.000e+00, 0.000e+00, 0.000e+00, 0.000e+00,\n",
       "        0.000e+00, 0.000e+00, 0.000e+00, 0.000e+00, 0.000e+00, 0.000e+00,\n",
       "        0.000e+00, 1.000e+00]),\n",
       " array([1.96000000e+00, 3.08642801e+06, 6.17285406e+06, 9.25928011e+06,\n",
       "        1.23457062e+07, 1.54321322e+07, 1.85185583e+07, 2.16049843e+07,\n",
       "        2.46914104e+07, 2.77778364e+07, 3.08642625e+07, 3.39506885e+07,\n",
       "        3.70371146e+07, 4.01235406e+07, 4.32099667e+07, 4.62963927e+07,\n",
       "        4.93828188e+07, 5.24692448e+07, 5.55556709e+07, 5.86420969e+07,\n",
       "        6.17285230e+07, 6.48149490e+07, 6.79013751e+07, 7.09878011e+07,\n",
       "        7.40742272e+07, 7.71606532e+07, 8.02470793e+07, 8.33335053e+07,\n",
       "        8.64199314e+07, 8.95063574e+07, 9.25927835e+07, 9.56792095e+07,\n",
       "        9.87656356e+07, 1.01852062e+08, 1.04938488e+08, 1.08024914e+08,\n",
       "        1.11111340e+08, 1.14197766e+08, 1.17284192e+08, 1.20370618e+08,\n",
       "        1.23457044e+08, 1.26543470e+08, 1.29629896e+08, 1.32716322e+08,\n",
       "        1.35802748e+08, 1.38889174e+08, 1.41975600e+08, 1.45062026e+08,\n",
       "        1.48148452e+08, 1.51234878e+08, 1.54321304e+08]),\n",
       " <BarContainer object of 50 artists>)"
      ]
     },
     "execution_count": 44,
     "metadata": {},
     "output_type": "execute_result"
    },
    {
     "data": {
      "image/png": "[encoded data removed]",
      "text/plain": [
       "<Figure size 1440x1440 with 1 Axes>"
      ]
     },
     "metadata": {
      "needs_background": "light"
     },
     "output_type": "display_data"
    }
   ],
   "source": [
    "## Set size of the graph\n",
    "plt.figure(figsize=(20,20))\n",
    "\n",
    "## Set font size around graph\n",
    "plt.rcParams.update({'font.size': 22})\n",
    "\n",
    "## Show grid through graph\n",
    "plt.grid(True, which=\"both\")\n",
    "\n",
    "## Set y scale\n",
    "plt.ylim(0.1, 4000)\n",
    "\n",
    "## X/Y titles : \n",
    "plt.xlabel(\"5-1_AdultBodyMass_g\")\n",
    "plt.ylabel(\"Occurences\")\n",
    "\n",
    "## Show\n",
    "plt.hist(ls_neg_filter, bins=50, log=True)"
   ]
  },
  {
   "cell_type": "markdown",
   "id": "naval-record",
   "metadata": {},
   "source": [
    "Observations **\"Q6 : What are your conclusion about this histogram ?\"** : \n",
    "- With it, we can see that there is a bigger quantity of light animals than heavy ones.\n",
    "- Also, most of the measures have been taken with animals lighter than 10 tonnes."
   ]
  },
  {
   "cell_type": "markdown",
   "id": "smaller-string",
   "metadata": {},
   "source": [
    "### II.5) Histogram of Body masses that don't exceed 50[kg]"
   ]
  },
  {
   "cell_type": "code",
   "execution_count": 45,
   "id": "municipal-slovenia",
   "metadata": {},
   "outputs": [
    {
     "data": {
      "text/plain": [
       "(array([2.577e+03, 1.590e+02, 1.050e+02, 5.900e+01, 5.500e+01, 3.700e+01,\n",
       "        3.500e+01, 2.800e+01, 3.500e+01, 1.800e+01, 1.700e+01, 1.500e+01,\n",
       "        1.400e+01, 1.000e+01, 8.000e+00, 6.000e+00, 7.000e+00, 5.000e+00,\n",
       "        7.000e+00, 6.000e+00, 3.000e+00, 6.000e+00, 4.000e+00, 3.000e+00,\n",
       "        2.000e+00, 2.000e+00, 6.000e+00, 3.000e+00, 4.000e+00, 5.000e+00,\n",
       "        0.000e+00, 3.000e+00, 4.000e+00, 3.000e+00, 1.000e+00, 3.000e+00,\n",
       "        2.000e+00, 2.000e+00, 2.000e+00, 6.000e+00, 2.000e+00, 2.000e+00,\n",
       "        2.000e+00, 4.000e+00, 0.000e+00, 2.000e+00, 1.000e+00, 4.000e+00,\n",
       "        1.000e+00, 2.000e+00]),\n",
       " array([    0.,  1000.,  2000.,  3000.,  4000.,  5000.,  6000.,  7000.,\n",
       "         8000.,  9000., 10000., 11000., 12000., 13000., 14000., 15000.,\n",
       "        16000., 17000., 18000., 19000., 20000., 21000., 22000., 23000.,\n",
       "        24000., 25000., 26000., 27000., 28000., 29000., 30000., 31000.,\n",
       "        32000., 33000., 34000., 35000., 36000., 37000., 38000., 39000.,\n",
       "        40000., 41000., 42000., 43000., 44000., 45000., 46000., 47000.,\n",
       "        48000., 49000., 50000.]),\n",
       " <BarContainer object of 50 artists>)"
      ]
     },
     "execution_count": 45,
     "metadata": {},
     "output_type": "execute_result"
    },
    {
     "data": {
      "image/png": "[encoded data removed]",
      "text/plain": [
       "<Figure size 1440x1440 with 1 Axes>"
      ]
     },
     "metadata": {
      "needs_background": "light"
     },
     "output_type": "display_data"
    }
   ],
   "source": [
    "## Set size of the graph\n",
    "plt.figure(figsize=(20,20))\n",
    "\n",
    "## Set font size around graph\n",
    "plt.rcParams.update({'font.size': 22})\n",
    "\n",
    "## Show grid through graph\n",
    "plt.grid(True, which=\"both\")\n",
    "\n",
    "## Set y scale\n",
    "plt.ylim(0.1, 4000)\n",
    "\n",
    "## X/Y titles : \n",
    "plt.xlabel(\"5-1_AdultBodyMass_g\")\n",
    "plt.ylabel(\"Occurences\")\n",
    "\n",
    "## Show\n",
    "plt.hist(ls_neg_filter, bins=50, log=True, range=[0, 50000])"
   ]
  },
  {
   "cell_type": "markdown",
   "id": "parental-jumping",
   "metadata": {},
   "source": [
    "Observations **\"Q7 : What are your conclusion about those histograms ?\"** : \n",
    "- We can see that between **~15kg and 50kg**, we have **a balanced magnitude** of occurences.\n",
    "- Under 10kg, there is a lot more occurences.\n",
    "- **The peak is under 1kg**."
   ]
  },
  {
   "cell_type": "markdown",
   "id": "naked-kazakhstan",
   "metadata": {},
   "source": [
    "## Part III. - Benford's law"
   ]
  },
  {
   "cell_type": "markdown",
   "id": "judicial-porter",
   "metadata": {},
   "source": [
    "### III.1) Take animals' body masses as adult (5-1_AdultBodyMass_g) after filter of missing and unrealistic values."
   ]
  },
  {
   "cell_type": "code",
   "execution_count": 46,
   "id": "incorrect-wesley",
   "metadata": {},
   "outputs": [
    {
     "data": {
      "text/plain": [
       "[492714.47,\n",
       " 10392.49,\n",
       " 9658.7,\n",
       " 11989.1,\n",
       " 31756.51,\n",
       " 800143.05,\n",
       " 500000.0,\n",
       " 635974.34,\n",
       " 1117.02,\n",
       " 897.67]"
      ]
     },
     "execution_count": 46,
     "metadata": {},
     "output_type": "execute_result"
    }
   ],
   "source": [
    "ls_neg_filter[:10]"
   ]
  },
  {
   "cell_type": "markdown",
   "id": "classified-consideration",
   "metadata": {},
   "source": [
    "### III.2) Extract most significant digits"
   ]
  },
  {
   "cell_type": "code",
   "execution_count": 47,
   "id": "unusual-physics",
   "metadata": {},
   "outputs": [
    {
     "name": "stdout",
     "output_type": "stream",
     "text": [
      "[4, 1, 9, 1, 3, 8, 5, 6, 1, 8]\n"
     ]
    }
   ],
   "source": [
    "## Recover most significant digit of each value in <ls_neg_filter>\n",
    "ls_msd = [int(x) // (10**floor(log10(x))) for x in ls_neg_filter]\n",
    "## Check result list\n",
    "print(ls_msd[:10])"
   ]
  },
  {
   "cell_type": "markdown",
   "id": "daily-legislature",
   "metadata": {},
   "source": [
    "Most Significant Digit : **Checked with the 2 last cells !**"
   ]
  },
  {
   "cell_type": "markdown",
   "id": "minus-pantyhose",
   "metadata": {},
   "source": [
    "### III.3) Reckon frequency of msd (most significant digit)"
   ]
  },
  {
   "cell_type": "code",
   "execution_count": 48,
   "id": "complicated-committee",
   "metadata": {},
   "outputs": [
    {
     "name": "stdout",
     "output_type": "stream",
     "text": [
      "1 : 27.58%\n",
      "2 : 18.52%\n",
      "3 : 10.70%\n",
      "4 : 11.32%\n",
      "5 : 7.51%\n",
      "6 : 6.86%\n",
      "7 : 7.03%\n",
      "8 : 6.13%\n",
      "9 : 4.35%\n"
     ]
    }
   ],
   "source": [
    "## ls of each percent by index 1 to 9\n",
    "ls_percent = [(ls_msd.count(x) / len(ls_msd) * 100) for x in range(1,10)]\n",
    "\n",
    "## print list\n",
    "for x in range(1, 10):\n",
    "    print(f'{x} : {ls_percent[x-1]:.2f}%')"
   ]
  },
  {
   "cell_type": "markdown",
   "id": "labeled-mobile",
   "metadata": {},
   "source": [
    "### III.4) barchart : Comparison of our result and Belford's law"
   ]
  },
  {
   "cell_type": "code",
   "execution_count": 49,
   "id": "swedish-attention",
   "metadata": {},
   "outputs": [],
   "source": [
    "ls_Benford = [30.1, 17.6, 12.5, 9.7, 7.9, 6.7, 5.8, 5.1, 4.6]\n",
    "#ls_idx = [*range(1,10,1)]\n",
    "ls_idx = np.arange(1,10,1)\n",
    "## Checked index list\n",
    "#print(ls_idx)"
   ]
  },
  {
   "cell_type": "code",
   "execution_count": 50,
   "id": "duplicate-artist",
   "metadata": {},
   "outputs": [
    {
     "data": {
      "text/plain": [
       "<matplotlib.legend.Legend at 0x7ff4adecb400>"
      ]
     },
     "execution_count": 50,
     "metadata": {},
     "output_type": "execute_result"
    },
    {
     "data": {
      "image/png": "[encoded data removed]",
      "text/plain": [
       "<Figure size 1080x1080 with 1 Axes>"
      ]
     },
     "metadata": {
      "needs_background": "light"
     },
     "output_type": "display_data"
    }
   ],
   "source": [
    "## Set bar width\n",
    "barWidth=0.35\n",
    "\n",
    "## Set plot size\n",
    "plt.figure(figsize=(15,15))\n",
    "\n",
    "## Bar datas :\n",
    "plt.bar(ls_idx - barWidth/2, ls_Benford, color='lime', width=barWidth, label='Benford\\'s law')\n",
    "plt.bar(ls_idx + barWidth/2, ls_percent, color='tomato', width=barWidth, label='5-1_AdultBodyMass_g')\n",
    "\n",
    "## Legend :\n",
    "ax = plt.gca()\n",
    "ax.set_xticks(ls_idx)\n",
    "plt.legend()"
   ]
  },
  {
   "cell_type": "markdown",
   "id": "random-variation",
   "metadata": {},
   "source": [
    "Observation **\"Q8 : What can be observed ? Comment your result.\"** : \n",
    "\\\n",
    "We are pretty close to the Benford's law values. They are not exactly the same, but we have the same magnitude than the law."
   ]
  },
  {
   "cell_type": "markdown",
   "id": "judicial-behalf",
   "metadata": {},
   "source": [
    "### III.5) Comparison with another column (5-3_NeonateBodyMass_g for example)"
   ]
  },
  {
   "cell_type": "code",
   "execution_count": 51,
   "id": "stupid-extra",
   "metadata": {},
   "outputs": [
    {
     "name": "stdout",
     "output_type": "stream",
     "text": [
      "Minimum = -999.000[g]\n",
      "Minimum (filtered) = 0.004[g]\n",
      "Maximum = 2738612.790[g] = 2738.613[kg] = 2.739[t]\n",
      "Average = 10553.737[g]   = 10.554[kg]   = 0.011[t]\n",
      "Median  = 13.690[g]\n"
     ]
    }
   ],
   "source": [
    "## MINIMUM : ------------------------------------------------------------------------>\n",
    "print(f'Minimum = {df_ani[\"5-3_NeonateBodyMass_g\"].min():.3f}[g]')\n",
    "LOWER_LIMIT = 0\n",
    "if df_ani[\"5-1_AdultBodyMass_g\"].min() < LOWER_LIMIT:\n",
    "    ## List with only realistic values (under 0 deleted) :\n",
    "    ls_neg_5_3 = [x for x in df_ani[\"5-3_NeonateBodyMass_g\"] if x >= LOWER_LIMIT]\n",
    "    ## Check filtered list : \n",
    "    #print(ls_neg_filter)\n",
    "    print(f'Minimum (filtered) = {min(ls_neg_5_3):.3f}[g]')\n",
    "    \n",
    "## MAXIMUM : ------------------------------------------------------------------------>\n",
    "print(f'Maximum = {max(ls_neg_5_3):.3f}[g] = \\\n",
    "{max(ls_neg_5_3)/1000:.3f}[kg] = \\\n",
    "{max(ls_neg_5_3)/1000000:.3f}[t]')\n",
    "\n",
    "## AVERAGE : ------------------------------------------------------------------------>\n",
    "print(f'Average = {statistics.mean(ls_neg_5_3):.3f}[g]   = \\\n",
    "{statistics.mean(ls_neg_5_3)/1000:.3f}[kg]   = \\\n",
    "{statistics.mean(ls_neg_5_3)/1000000:.3f}[t]')\n",
    "\n",
    "## MEDIAN  : ------------------------------------------------------------------------>\n",
    "print(f'Median  = {statistics.median(ls_neg_5_3):.3f}[g]')"
   ]
  },
  {
   "cell_type": "code",
   "execution_count": 52,
   "id": "separated-murder",
   "metadata": {},
   "outputs": [
    {
     "data": {
      "text/plain": [
       "[36751.19,\n",
       " 211.82,\n",
       " 200.01,\n",
       " 412.31,\n",
       " 22977.05,\n",
       " 73.6,\n",
       " 0.2,\n",
       " 34346.64,\n",
       " 5875.0,\n",
       " 177.2]"
      ]
     },
     "execution_count": 52,
     "metadata": {},
     "output_type": "execute_result"
    }
   ],
   "source": [
    "ls_neg_5_3[:10]"
   ]
  },
  {
   "cell_type": "code",
   "execution_count": 53,
   "id": "tired-elimination",
   "metadata": {},
   "outputs": [
    {
     "name": "stdout",
     "output_type": "stream",
     "text": [
      "[3, 2, 2, 4, 2, 7, 0.0, 3, 5, 1]\n"
     ]
    }
   ],
   "source": [
    "## Recover most significant digit of each value in <ls_neg_5_3>\n",
    "ls_msd_5_3 = [int(x) // (10**floor(log10(x))) for x in ls_neg_5_3]\n",
    "## Check result list\n",
    "print(ls_msd_5_3[:10])"
   ]
  },
  {
   "cell_type": "code",
   "execution_count": 54,
   "id": "consolidated-robin",
   "metadata": {},
   "outputs": [
    {
     "name": "stdout",
     "output_type": "stream",
     "text": [
      "1 : 23.59%\n",
      "2 : 18.89%\n",
      "3 : 14.01%\n",
      "4 : 12.07%\n",
      "5 : 6.45%\n",
      "6 : 4.52%\n",
      "7 : 4.24%\n",
      "8 : 4.06%\n",
      "9 : 3.50%\n"
     ]
    }
   ],
   "source": [
    "## ls of each percent by index 1 to 9\n",
    "ls_percent_5_3 = [(ls_msd_5_3.count(x) / len(ls_msd_5_3) * 100) for x in range(1,10)]\n",
    "\n",
    "## Print list\n",
    "for x in range(1, 10):\n",
    "    print(f'{x} : {ls_percent_5_3[x-1]:.2f}%')"
   ]
  },
  {
   "cell_type": "code",
   "execution_count": 55,
   "id": "limiting-native",
   "metadata": {},
   "outputs": [
    {
     "data": {
      "text/plain": [
       "<matplotlib.legend.Legend at 0x7ff4ade317f0>"
      ]
     },
     "execution_count": 55,
     "metadata": {},
     "output_type": "execute_result"
    },
    {
     "data": {
      "image/png": "[encoded data removed]",
      "text/plain": [
       "<Figure size 1080x1080 with 1 Axes>"
      ]
     },
     "metadata": {
      "needs_background": "light"
     },
     "output_type": "display_data"
    }
   ],
   "source": [
    "## Reset bar width\n",
    "barWidth=0.25\n",
    "\n",
    "## Reset plot size\n",
    "plt.figure(figsize=(15,15))\n",
    "\n",
    "## Bar datas :\n",
    "plt.bar(ls_idx - barWidth, ls_percent, color='tomato', width=barWidth, label='Result : 5-1_AdultBodyMass_g')\n",
    "plt.bar(ls_idx, ls_Benford, color='lime', width=barWidth, label='Benford\\'s law')\n",
    "plt.bar(ls_idx + barWidth, ls_percent_5_3, color='cyan', width=barWidth, label='Result : 5-3_NeonateBodyMass_g')\n",
    "\n",
    "## Legend :\n",
    "ax = plt.gca()\n",
    "ax.set_xticks(ls_idx)\n",
    "plt.legend()"
   ]
  },
  {
   "cell_type": "markdown",
   "id": "fifty-blade",
   "metadata": {},
   "source": [
    "Observation **\"Q9 : Comment your result.\"** : \n",
    "\\\n",
    "Like before, values are **not identical**, but they're **close to Benford's law**."
   ]
  },
  {
   "cell_type": "code",
   "execution_count": null,
   "id": "steady-vertex",
   "metadata": {},
   "outputs": [],
   "source": []
  }
 ],
 "metadata": {
  "kernelspec": {
   "display_name": "Python 3",
   "language": "python",
   "name": "python3"
  },
  "language_info": {
   "codemirror_mode": {
    "name": "ipython",
    "version": 3
   },
   "file_extension": ".py",
   "mimetype": "text/x-python",
   "name": "python",
   "nbconvert_exporter": "python",
   "pygments_lexer": "ipython3",
   "version": "3.9.4"
  }
 },
 "nbformat": 4,
 "nbformat_minor": 5
}
